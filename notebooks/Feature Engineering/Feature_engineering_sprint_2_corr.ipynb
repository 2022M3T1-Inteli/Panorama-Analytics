{
  "nbformat": 4,
  "nbformat_minor": 0,
  "metadata": {
    "colab": {
      "provenance": [],
      "collapsed_sections": []
    },
    "kernelspec": {
      "name": "python3",
      "display_name": "Python 3"
    },
    "language_info": {
      "name": "python"
    }
  },
  "cells": [
    {
      "cell_type": "markdown",
      "source": [
        "#Instalando e importando as bibliotecas"
      ],
      "metadata": {
        "id": "ul2U6lLZqOPR"
      }
    },
    {
      "cell_type": "code",
      "execution_count": null,
      "metadata": {
        "id": "XhiYC66BeomO"
      },
      "outputs": [],
      "source": [
        "# importa libraries necessárias\n",
        "import pandas as pd\n",
        "import matplotlib.pyplot as plt\n",
        "import numpy as np\n",
        "\n",
        "from pydrive.auth import GoogleAuth\n",
        "from pydrive.drive import GoogleDrive\n",
        "from google.colab import auth\n",
        "from google.colab import files\n",
        "from oauth2client.client import GoogleCredentials\n",
        "import warnings\n",
        "warnings.filterwarnings('ignore')\n"
      ]
    },
    {
      "cell_type": "markdown",
      "source": [
        "#Carregando os dados da planilha"
      ],
      "metadata": {
        "id": "zRBge3vqqXF5"
      }
    },
    {
      "cell_type": "code",
      "source": [
        "# Autenticação para acesso aos dados\n",
        "auth.authenticate_user()\n",
        "gauth = GoogleAuth()\n",
        "gauth.credentials = GoogleCredentials.get_application_default()\n",
        "drive = GoogleDrive(gauth)\n",
        "# Download dos dados para esta máquina virtual\n",
        "downloaded = drive.CreateFile({'id': '1ZOspzswkB75WFfSg23GrCMdqIOf0EXOH'})\n",
        "downloaded.GetContentFile('data.csv')"
      ],
      "metadata": {
        "id": "x8L8qgFJeu-U"
      },
      "execution_count": null,
      "outputs": []
    },
    {
      "cell_type": "code",
      "source": [
        "# Carregando os dados baixados no dataframe \n",
        "df = pd.read_csv('data.csv')"
      ],
      "metadata": {
        "id": "3PuEn7HcewkJ"
      },
      "execution_count": null,
      "outputs": []
    },
    {
      "cell_type": "code",
      "source": [
        "#olhamos as colunas do df\n",
        "df.columns"
      ],
      "metadata": {
        "colab": {
          "base_uri": "https://localhost:8080/"
        },
        "id": "ZcJ7VFqVMP6t",
        "outputId": "4b970c11-e604-4844-d290-0c00173ec68a"
      },
      "execution_count": null,
      "outputs": [
        {
          "output_type": "execute_result",
          "data": {
            "text/plain": [
              "Index(['anomes', 'num_cpf_hash', 'vlr_credito', 'vlr_saldo', 'num_atend_atrs',\n",
              "       'vlr_score', 'num_produtos', 'num_atend', 'qtd_oper', 'qtd_reclm',\n",
              "       'qtd_restr', 'vlr_renda', 'cod_rating', 'ind_atrito', 'ind_engaj',\n",
              "       'ind_novo_cli'],\n",
              "      dtype='object')"
            ]
          },
          "metadata": {},
          "execution_count": 4
        }
      ]
    },
    {
      "cell_type": "markdown",
      "source": [
        "#Criação de um data frame com um cliente por linha que em algum momento foram engajados com o banco, resumindo a sua trajetória durante os 12 mêses fornecidos pelo banco \n"
      ],
      "metadata": {
        "id": "QU7phPXvJIyw"
      }
    },
    {
      "cell_type": "markdown",
      "source": [
        "<h2>1) Precisamos pegar toda a jornada dos clientes que em algum momento ja foram engajados com o banco"
      ],
      "metadata": {
        "id": "6BVvhAWahtOk"
      }
    },
    {
      "cell_type": "markdown",
      "source": [
        "<p>1º) Criamos um df que contenha apenas um cpf por linha de pessoas que possuem o indice engajado como 1, independente do anomes"
      ],
      "metadata": {
        "id": "RA-S_mEWj3pz"
      }
    },
    {
      "cell_type": "code",
      "source": [
        "#df com pessoas que em algum momentos foram engajadas\n",
        "df_engajado = df[(df.ind_engaj ==1)].drop_duplicates(\"num_cpf_hash\")"
      ],
      "metadata": {
        "id": "CNuj0alZKEni"
      },
      "execution_count": null,
      "outputs": []
    },
    {
      "cell_type": "markdown",
      "source": [
        "<p>2º) Criamos um df que pegará todos os anomes daquelas pessoas que possuem indice engajado como 1, independente se naquele anomes o indice engajado estava 1 ou 0."
      ],
      "metadata": {
        "id": "wdPn__i0kg6m"
      }
    },
    {
      "cell_type": "code",
      "source": [
        "# criação de um df, que não é um ponteiro para outro df, que possui os dados de todos os anomes dos clientes ja foram engajados em algum momento, eliminando as colunas \"vlr_renda\", \"ind_novo_cli\" e \"anomes\". Essas colunas foram removidas pois acreditamos que não agregam para nosso resultado de indice de engajamento. Também já substituimos os valores Nan por 0. \n",
        "clientes_engajados_jornada  = df[df[\"num_cpf_hash\"].isin(df_engajado.num_cpf_hash.values)].fillna(0).drop([\"vlr_renda\", \"ind_novo_cli\", \"anomes\",], axis=1).copy()"
      ],
      "metadata": {
        "id": "5DMf2UTjKE4g"
      },
      "execution_count": null,
      "outputs": []
    },
    {
      "cell_type": "code",
      "source": [
        "# deletamos algumas variáveis para liberar espaço na memória ram\n",
        "del df\n",
        "del df_engajado"
      ],
      "metadata": {
        "id": "LnNkuulh6Mre"
      },
      "execution_count": null,
      "outputs": []
    },
    {
      "cell_type": "code",
      "source": [
        "# verificamos se todas as colunas que desejamos está no df\n",
        "clientes_engajados_jornada.columns"
      ],
      "metadata": {
        "colab": {
          "base_uri": "https://localhost:8080/"
        },
        "id": "70DBNDEmLFVp",
        "outputId": "b5553c73-70eb-4ebe-fe3d-62cc50ae6539"
      },
      "execution_count": null,
      "outputs": [
        {
          "output_type": "execute_result",
          "data": {
            "text/plain": [
              "Index(['num_cpf_hash', 'vlr_credito', 'vlr_saldo', 'num_atend_atrs',\n",
              "       'vlr_score', 'num_produtos', 'num_atend', 'qtd_oper', 'qtd_reclm',\n",
              "       'qtd_restr', 'cod_rating', 'ind_atrito', 'ind_engaj'],\n",
              "      dtype='object')"
            ]
          },
          "metadata": {},
          "execution_count": 8
        }
      ]
    },
    {
      "cell_type": "code",
      "source": [
        "# Checagem de quantas linhas temos no df que acabamos de criar\n",
        "len(clientes_engajados_jornada)"
      ],
      "metadata": {
        "colab": {
          "base_uri": "https://localhost:8080/"
        },
        "id": "qZrBzuccKFbZ",
        "outputId": "1d891c87-05b4-4679-fd20-3ef0f59b760a"
      },
      "execution_count": null,
      "outputs": [
        {
          "output_type": "execute_result",
          "data": {
            "text/plain": [
              "3338100"
            ]
          },
          "metadata": {},
          "execution_count": 9
        }
      ]
    },
    {
      "cell_type": "markdown",
      "source": [
        "<h2>2) Precisamos filtrar essas informações aplicando algumas \"feature engineering\" e resumir os clientes em uma única linha"
      ],
      "metadata": {
        "id": "_sF0taSKidfh"
      }
    },
    {
      "cell_type": "markdown",
      "source": [
        "<p>1º) Criar um label encoder para a coluna que temos string como valor"
      ],
      "metadata": {
        "id": "X7kbF72mnLmB"
      }
    },
    {
      "cell_type": "code",
      "source": [
        "# Checagem de quais valores temos na coluna \"cod_rating\"\n",
        "clientes_engajados_jornada[\"cod_rating\"].unique()"
      ],
      "metadata": {
        "colab": {
          "base_uri": "https://localhost:8080/"
        },
        "id": "DMXDCT_SDl5J",
        "outputId": "834a7a7f-7336-4242-e672-653009fd642d"
      },
      "execution_count": null,
      "outputs": [
        {
          "output_type": "execute_result",
          "data": {
            "text/plain": [
              "array(['A', 'C', 'B', 0, 'E', 'D', 'F', 'H', 'HH', 'G', 'AA'],\n",
              "      dtype=object)"
            ]
          },
          "metadata": {},
          "execution_count": 10
        }
      ]
    },
    {
      "cell_type": "code",
      "source": [
        " # aplica label encode em cod_rating já que o valor da coluna não é numérico,mas sim texto\n",
        "clientes_engajados_jornada[\"cod_rating\"] = clientes_engajados_jornada[\"cod_rating\"].astype('category')\n",
        "\n",
        "#poem os novos valores na coluna\n",
        "clientes_engajados_jornada[\"cod_rating\"] = clientes_engajados_jornada[\"cod_rating\"].cat.codes\n",
        "clientes_engajados_jornada[\"cod_rating\"].unique()"
      ],
      "metadata": {
        "id": "mkxVKEclOSGi",
        "colab": {
          "base_uri": "https://localhost:8080/"
        },
        "outputId": "facf64e2-809c-47dc-8686-b7dbec21cee6"
      },
      "execution_count": null,
      "outputs": [
        {
          "output_type": "execute_result",
          "data": {
            "text/plain": [
              "array([ 1,  4,  3,  0,  6,  5,  7,  9, 10,  8,  2], dtype=int8)"
            ]
          },
          "metadata": {},
          "execution_count": 11
        }
      ]
    },
    {
      "cell_type": "markdown",
      "source": [
        "<p>2º) Ajuste de incongruência nos dados de saldo e número de produtos"
      ],
      "metadata": {
        "id": "HS_TrD5_nV_8"
      }
    },
    {
      "cell_type": "code",
      "source": [
        "#  filtramos clientes que tem saldo mas não tem produtos já que ter saldo é um produto. Substituimos 0 por 1(não realizamos a mudança pois ainda não confirmamos com o cliente se nossa hipótese está certa)\n",
        "\n",
        "# clientes_engajados_jornada.isin(clientes_engajados_jornada[(clientes_engajados_jornada[\"num_produtos\"] ==0.0) & (clientes_engajados_jornada[\"vlr_saldo\"] !=0)])[\"num_produtos\"].replace(to_replace=0.0,value=1,inplace=True)\n",
        "#clientes_engajados_jornada[(clientes_engajados_jornada[\"num_produtos\"] ==0.0) & (clientes_engajados_jornada[\"vlr_saldo\"] !=0)]\n",
        "\n"
      ],
      "metadata": {
        "id": "sMygR9owygow"
      },
      "execution_count": null,
      "outputs": []
    },
    {
      "cell_type": "markdown",
      "source": [
        "<p>3º) Realização de soma, mediana, média e valor máximo para cada histórico dos clientes ao longo dos anomes disponíveis de cada"
      ],
      "metadata": {
        "id": "r2T8K1trngpb"
      }
    },
    {
      "cell_type": "markdown",
      "source": [
        "<p>Realizamos os seguintes agrupamentos para as seguintes colunas:\n",
        "<p>-------------------------\n",
        "<p>Soma:\n",
        "<p>qtd_oper\n",
        "<p>qtd_reclm\n",
        "<p>num_atend_atrs\n",
        "<p>num_atend\n",
        "<p>qtd_restr\n",
        "<p>-------------------------\n",
        "<p>Mediana:\n",
        "<p>vlr_credito\n",
        "<p>vlr_saldo\n",
        "<p>num_produtos\n",
        "<p>ind_engaj\n",
        "<p>cod_rating\n",
        "<p>-------------------------\n",
        "<p>Máximo:\n",
        "<p>ind_atrito\n",
        "<p>-------------------------\n",
        "<h5>Média:\n",
        "<p>vlr_score\n",
        "\n"
      ],
      "metadata": {
        "id": "8UicSGtlotjm"
      }
    },
    {
      "cell_type": "code",
      "source": [
        "# Criação de uma função para realizar os agrupamentos que precisamos\n",
        "def agrupar_dados(this_df):\n",
        "    #Somando os valores\n",
        "    this_df[\"qtd_oper\"] = this_df.qtd_oper.sum()\n",
        "    this_df[\"qtd_reclm\"] = this_df.qtd_reclm.sum()\n",
        "    this_df[\"num_atend_atrs\"] = this_df.num_atend_atrs.sum()\n",
        "    this_df[\"num_atend\"] = this_df.num_atend.sum()\n",
        "    this_df[\"qtd_restr\"] = this_df.qtd_restr.sum()\n",
        "    \n",
        "    #Pegando a mediana dos valores\n",
        "    this_df[\"vlr_credito\"] = this_df.vlr_credito.median()\n",
        "    this_df[\"vlr_saldo\"] = this_df.vlr_saldo.median()\n",
        "    this_df[\"num_produtos\"] = this_df.num_produtos.median()\n",
        "    this_df[\"cod_rating\"] = this_df.cod_rating.median()\n",
        "    this_df[\"ind_engaj\"] = this_df.ind_engaj.median()\n",
        "\n",
        "    #Pegando a média dos valores\n",
        "    this_df[\"vlr_score\"] = this_df.vlr_score.mean()\n",
        "\n",
        "    #Pegando o máximo dos valores\n",
        "    this_df[\"ind_atrito\"] = this_df.ind_atrito.max()\n",
        "   \n",
        "   #Retornamos o df modificado\n",
        "    return this_df\n"
      ],
      "metadata": {
        "id": "z3WmQlBW2xKB"
      },
      "execution_count": null,
      "outputs": []
    },
    {
      "cell_type": "code",
      "source": [
        "# Aplicamos a função de criamos em um groupby para que as agregações sejam feitas para cada cpf (obs.: esse passo está demorando cerca de 13 minutos para ser concluido)\n",
        "clientes_engajados_jornada = clientes_engajados_jornada.groupby(\"num_cpf_hash\").apply(agrupar_dados)"
      ],
      "metadata": {
        "id": "wY9Qnz5O_hHY"
      },
      "execution_count": null,
      "outputs": []
    },
    {
      "cell_type": "markdown",
      "source": [
        "<p>4º) Substituição de valores errados após o resumo de cada cliente"
      ],
      "metadata": {
        "id": "OtQjdGV5n1mn"
      }
    },
    {
      "cell_type": "code",
      "source": [
        "#Retiramos os clientes duplicados e resetamos index\n",
        "clientes_engajados_jornada = clientes_engajados_jornada.drop_duplicates(\"num_cpf_hash\")\n",
        "clientes_engajados_jornada = clientes_engajados_jornada.reset_index(drop=True)"
      ],
      "metadata": {
        "id": "onA3oNrUC9up"
      },
      "execution_count": null,
      "outputs": []
    },
    {
      "cell_type": "code",
      "source": [
        "# Encontramos valores de 0.5 para o indice engajado em detrimento da aplicação da mediana. Para solucionar esse problema, estamos substituindo para 1 uma vez que precisamos mais de valores engajados e esse usuário esteve 50% do tempo engajado.\n",
        "clientes_engajados_jornada[\"ind_engaj\"].replace(to_replace=0.5,value=1,inplace=True)"
      ],
      "metadata": {
        "id": "gkPaXIbyYUF2"
      },
      "execution_count": null,
      "outputs": []
    },
    {
      "cell_type": "markdown",
      "source": [
        "<p>5º) Checagem dos resultados"
      ],
      "metadata": {
        "id": "UWgDj7efoIA9"
      }
    },
    {
      "cell_type": "code",
      "source": [
        "#Verificamos qual a porcentagem de pessoas que no resultado final ficaram como engajados\n",
        "len(clientes_engajados_jornada[(clientes_engajados_jornada.ind_engaj == 1)]) / len(clientes_engajados_jornada)"
      ],
      "metadata": {
        "colab": {
          "base_uri": "https://localhost:8080/"
        },
        "id": "3xwRWqWSR1_7",
        "outputId": "ffdcc37b-71b8-4657-d6eb-3af3bf6a8042"
      },
      "execution_count": null,
      "outputs": [
        {
          "output_type": "execute_result",
          "data": {
            "text/plain": [
              "0.6411329581114261"
            ]
          },
          "metadata": {},
          "execution_count": 17
        }
      ]
    },
    {
      "cell_type": "code",
      "source": [
        "#verificamos se há apenas dois valores para \"ind_engaj\", ou 0 ou 1.\n",
        "len(clientes_engajados_jornada[(clientes_engajados_jornada.ind_engaj == 1) | (clientes_engajados_jornada.ind_engaj == 0)]) / len(clientes_engajados_jornada)"
      ],
      "metadata": {
        "colab": {
          "base_uri": "https://localhost:8080/"
        },
        "id": "aIRhmUyjtlL7",
        "outputId": "b6ff82f0-f8a9-462b-8889-c49676587ac5"
      },
      "execution_count": null,
      "outputs": [
        {
          "output_type": "execute_result",
          "data": {
            "text/plain": [
              "1.0"
            ]
          },
          "metadata": {},
          "execution_count": 18
        }
      ]
    },
    {
      "cell_type": "code",
      "source": [
        "#Verificando quantos clientes obtivemos no final\n",
        "len(clientes_engajados_jornada)"
      ],
      "metadata": {
        "colab": {
          "base_uri": "https://localhost:8080/"
        },
        "id": "4ih6jUiIgAHi",
        "outputId": "c9c6d216-fd71-40d4-c806-792753f25c6d"
      },
      "execution_count": null,
      "outputs": [
        {
          "output_type": "execute_result",
          "data": {
            "text/plain": [
              "257803"
            ]
          },
          "metadata": {},
          "execution_count": 19
        }
      ]
    },
    {
      "cell_type": "code",
      "source": [
        "#Verificando os resultados nos primeiros 10 clientes apenas\n",
        "clientes_engajados_jornada.head(10)"
      ],
      "metadata": {
        "colab": {
          "base_uri": "https://localhost:8080/",
          "height": 427
        },
        "id": "LUAjl4eZjIFZ",
        "outputId": "4f0ed95e-2cf2-4323-acab-5e77e1d5a7e5"
      },
      "execution_count": null,
      "outputs": [
        {
          "output_type": "execute_result",
          "data": {
            "text/plain": [
              "                                        num_cpf_hash  vlr_credito  vlr_saldo  \\\n",
              "0  ffffd54b45ec46113523184fc07185a0d5cbfa876a07ba...     34690.20    5780.11   \n",
              "1  ffffbd4a3d42a12e07b1202d68c33d43220c42c8a55160...      4086.83    1400.27   \n",
              "2  ffff4ef886c28af8029c6b7d504942e6c9ef13021e9a35...     78661.03    5220.94   \n",
              "3  ffff4bbb4074d7894174fd94c685edb3fd7fc9b7b1e3c1...    116531.01    6663.52   \n",
              "4  fffe7c6f3755240f56780edde1f91b70de574bf4e6e767...      9660.02    1752.27   \n",
              "5  fffe21c8e200dbb6dddf1f99b8f6910f82338c9e4c1b49...     41559.72   25113.60   \n",
              "6  fffdfca27ab85ba0973fbb09469c7d4f0c8c2a8fc94852...    479213.00   33852.95   \n",
              "7  fffded88432c844360bbf1323077c2691b744725d60fa1...      7582.37    1075.25   \n",
              "8  fffdbe204fb2f4427dc75ce792aa6eafbfd1e32d4e865c...     30767.57     509.59   \n",
              "9  fffd8b2d6282071aa093603ee377ba1727f26d6a4d6e92...      9061.27   10999.85   \n",
              "\n",
              "   num_atend_atrs   vlr_score  num_produtos  num_atend  qtd_oper  qtd_reclm  \\\n",
              "0             0.0  437.615385           2.0        0.0     193.0        0.0   \n",
              "1             0.0  749.076923           2.0        0.0     411.0        0.0   \n",
              "2             0.0  486.076923           1.0        0.0     187.0        0.0   \n",
              "3             0.0  359.307692           2.0        0.0     290.0        0.0   \n",
              "4             0.0  553.153846           1.0        0.0      97.0        0.0   \n",
              "5             0.0  427.076923           1.0        0.0     144.0        0.0   \n",
              "6             0.0  199.846154           3.0        0.0     428.0        0.0   \n",
              "7             0.0  605.846154           4.0        0.0     207.0        0.0   \n",
              "8             0.0  278.307692           2.0        1.0     166.0        0.0   \n",
              "9             0.0  617.923077           2.0        0.0     242.0        0.0   \n",
              "\n",
              "   qtd_restr  cod_rating  ind_atrito  ind_engaj  \n",
              "0       64.0         1.0         0.0        1.0  \n",
              "1        0.0         1.0         0.0        1.0  \n",
              "2        0.0         1.0         0.0        1.0  \n",
              "3        8.0         1.0         0.0        1.0  \n",
              "4        0.0         1.0         0.0        1.0  \n",
              "5      181.0         1.0         0.0        1.0  \n",
              "6      140.0         1.0         0.0        1.0  \n",
              "7        0.0         1.0         0.0        1.0  \n",
              "8       22.0         1.0         0.0        1.0  \n",
              "9        0.0         1.0         0.0        1.0  "
            ],
            "text/html": [
              "\n",
              "  <div id=\"df-616a799a-8c1b-45d5-a197-6738ea180ffb\">\n",
              "    <div class=\"colab-df-container\">\n",
              "      <div>\n",
              "<style scoped>\n",
              "    .dataframe tbody tr th:only-of-type {\n",
              "        vertical-align: middle;\n",
              "    }\n",
              "\n",
              "    .dataframe tbody tr th {\n",
              "        vertical-align: top;\n",
              "    }\n",
              "\n",
              "    .dataframe thead th {\n",
              "        text-align: right;\n",
              "    }\n",
              "</style>\n",
              "<table border=\"1\" class=\"dataframe\">\n",
              "  <thead>\n",
              "    <tr style=\"text-align: right;\">\n",
              "      <th></th>\n",
              "      <th>num_cpf_hash</th>\n",
              "      <th>vlr_credito</th>\n",
              "      <th>vlr_saldo</th>\n",
              "      <th>num_atend_atrs</th>\n",
              "      <th>vlr_score</th>\n",
              "      <th>num_produtos</th>\n",
              "      <th>num_atend</th>\n",
              "      <th>qtd_oper</th>\n",
              "      <th>qtd_reclm</th>\n",
              "      <th>qtd_restr</th>\n",
              "      <th>cod_rating</th>\n",
              "      <th>ind_atrito</th>\n",
              "      <th>ind_engaj</th>\n",
              "    </tr>\n",
              "  </thead>\n",
              "  <tbody>\n",
              "    <tr>\n",
              "      <th>0</th>\n",
              "      <td>ffffd54b45ec46113523184fc07185a0d5cbfa876a07ba...</td>\n",
              "      <td>34690.20</td>\n",
              "      <td>5780.11</td>\n",
              "      <td>0.0</td>\n",
              "      <td>437.615385</td>\n",
              "      <td>2.0</td>\n",
              "      <td>0.0</td>\n",
              "      <td>193.0</td>\n",
              "      <td>0.0</td>\n",
              "      <td>64.0</td>\n",
              "      <td>1.0</td>\n",
              "      <td>0.0</td>\n",
              "      <td>1.0</td>\n",
              "    </tr>\n",
              "    <tr>\n",
              "      <th>1</th>\n",
              "      <td>ffffbd4a3d42a12e07b1202d68c33d43220c42c8a55160...</td>\n",
              "      <td>4086.83</td>\n",
              "      <td>1400.27</td>\n",
              "      <td>0.0</td>\n",
              "      <td>749.076923</td>\n",
              "      <td>2.0</td>\n",
              "      <td>0.0</td>\n",
              "      <td>411.0</td>\n",
              "      <td>0.0</td>\n",
              "      <td>0.0</td>\n",
              "      <td>1.0</td>\n",
              "      <td>0.0</td>\n",
              "      <td>1.0</td>\n",
              "    </tr>\n",
              "    <tr>\n",
              "      <th>2</th>\n",
              "      <td>ffff4ef886c28af8029c6b7d504942e6c9ef13021e9a35...</td>\n",
              "      <td>78661.03</td>\n",
              "      <td>5220.94</td>\n",
              "      <td>0.0</td>\n",
              "      <td>486.076923</td>\n",
              "      <td>1.0</td>\n",
              "      <td>0.0</td>\n",
              "      <td>187.0</td>\n",
              "      <td>0.0</td>\n",
              "      <td>0.0</td>\n",
              "      <td>1.0</td>\n",
              "      <td>0.0</td>\n",
              "      <td>1.0</td>\n",
              "    </tr>\n",
              "    <tr>\n",
              "      <th>3</th>\n",
              "      <td>ffff4bbb4074d7894174fd94c685edb3fd7fc9b7b1e3c1...</td>\n",
              "      <td>116531.01</td>\n",
              "      <td>6663.52</td>\n",
              "      <td>0.0</td>\n",
              "      <td>359.307692</td>\n",
              "      <td>2.0</td>\n",
              "      <td>0.0</td>\n",
              "      <td>290.0</td>\n",
              "      <td>0.0</td>\n",
              "      <td>8.0</td>\n",
              "      <td>1.0</td>\n",
              "      <td>0.0</td>\n",
              "      <td>1.0</td>\n",
              "    </tr>\n",
              "    <tr>\n",
              "      <th>4</th>\n",
              "      <td>fffe7c6f3755240f56780edde1f91b70de574bf4e6e767...</td>\n",
              "      <td>9660.02</td>\n",
              "      <td>1752.27</td>\n",
              "      <td>0.0</td>\n",
              "      <td>553.153846</td>\n",
              "      <td>1.0</td>\n",
              "      <td>0.0</td>\n",
              "      <td>97.0</td>\n",
              "      <td>0.0</td>\n",
              "      <td>0.0</td>\n",
              "      <td>1.0</td>\n",
              "      <td>0.0</td>\n",
              "      <td>1.0</td>\n",
              "    </tr>\n",
              "    <tr>\n",
              "      <th>5</th>\n",
              "      <td>fffe21c8e200dbb6dddf1f99b8f6910f82338c9e4c1b49...</td>\n",
              "      <td>41559.72</td>\n",
              "      <td>25113.60</td>\n",
              "      <td>0.0</td>\n",
              "      <td>427.076923</td>\n",
              "      <td>1.0</td>\n",
              "      <td>0.0</td>\n",
              "      <td>144.0</td>\n",
              "      <td>0.0</td>\n",
              "      <td>181.0</td>\n",
              "      <td>1.0</td>\n",
              "      <td>0.0</td>\n",
              "      <td>1.0</td>\n",
              "    </tr>\n",
              "    <tr>\n",
              "      <th>6</th>\n",
              "      <td>fffdfca27ab85ba0973fbb09469c7d4f0c8c2a8fc94852...</td>\n",
              "      <td>479213.00</td>\n",
              "      <td>33852.95</td>\n",
              "      <td>0.0</td>\n",
              "      <td>199.846154</td>\n",
              "      <td>3.0</td>\n",
              "      <td>0.0</td>\n",
              "      <td>428.0</td>\n",
              "      <td>0.0</td>\n",
              "      <td>140.0</td>\n",
              "      <td>1.0</td>\n",
              "      <td>0.0</td>\n",
              "      <td>1.0</td>\n",
              "    </tr>\n",
              "    <tr>\n",
              "      <th>7</th>\n",
              "      <td>fffded88432c844360bbf1323077c2691b744725d60fa1...</td>\n",
              "      <td>7582.37</td>\n",
              "      <td>1075.25</td>\n",
              "      <td>0.0</td>\n",
              "      <td>605.846154</td>\n",
              "      <td>4.0</td>\n",
              "      <td>0.0</td>\n",
              "      <td>207.0</td>\n",
              "      <td>0.0</td>\n",
              "      <td>0.0</td>\n",
              "      <td>1.0</td>\n",
              "      <td>0.0</td>\n",
              "      <td>1.0</td>\n",
              "    </tr>\n",
              "    <tr>\n",
              "      <th>8</th>\n",
              "      <td>fffdbe204fb2f4427dc75ce792aa6eafbfd1e32d4e865c...</td>\n",
              "      <td>30767.57</td>\n",
              "      <td>509.59</td>\n",
              "      <td>0.0</td>\n",
              "      <td>278.307692</td>\n",
              "      <td>2.0</td>\n",
              "      <td>1.0</td>\n",
              "      <td>166.0</td>\n",
              "      <td>0.0</td>\n",
              "      <td>22.0</td>\n",
              "      <td>1.0</td>\n",
              "      <td>0.0</td>\n",
              "      <td>1.0</td>\n",
              "    </tr>\n",
              "    <tr>\n",
              "      <th>9</th>\n",
              "      <td>fffd8b2d6282071aa093603ee377ba1727f26d6a4d6e92...</td>\n",
              "      <td>9061.27</td>\n",
              "      <td>10999.85</td>\n",
              "      <td>0.0</td>\n",
              "      <td>617.923077</td>\n",
              "      <td>2.0</td>\n",
              "      <td>0.0</td>\n",
              "      <td>242.0</td>\n",
              "      <td>0.0</td>\n",
              "      <td>0.0</td>\n",
              "      <td>1.0</td>\n",
              "      <td>0.0</td>\n",
              "      <td>1.0</td>\n",
              "    </tr>\n",
              "  </tbody>\n",
              "</table>\n",
              "</div>\n",
              "      <button class=\"colab-df-convert\" onclick=\"convertToInteractive('df-616a799a-8c1b-45d5-a197-6738ea180ffb')\"\n",
              "              title=\"Convert this dataframe to an interactive table.\"\n",
              "              style=\"display:none;\">\n",
              "        \n",
              "  <svg xmlns=\"http://www.w3.org/2000/svg\" height=\"24px\"viewBox=\"0 0 24 24\"\n",
              "       width=\"24px\">\n",
              "    <path d=\"M0 0h24v24H0V0z\" fill=\"none\"/>\n",
              "    <path d=\"M18.56 5.44l.94 2.06.94-2.06 2.06-.94-2.06-.94-.94-2.06-.94 2.06-2.06.94zm-11 1L8.5 8.5l.94-2.06 2.06-.94-2.06-.94L8.5 2.5l-.94 2.06-2.06.94zm10 10l.94 2.06.94-2.06 2.06-.94-2.06-.94-.94-2.06-.94 2.06-2.06.94z\"/><path d=\"M17.41 7.96l-1.37-1.37c-.4-.4-.92-.59-1.43-.59-.52 0-1.04.2-1.43.59L10.3 9.45l-7.72 7.72c-.78.78-.78 2.05 0 2.83L4 21.41c.39.39.9.59 1.41.59.51 0 1.02-.2 1.41-.59l7.78-7.78 2.81-2.81c.8-.78.8-2.07 0-2.86zM5.41 20L4 18.59l7.72-7.72 1.47 1.35L5.41 20z\"/>\n",
              "  </svg>\n",
              "      </button>\n",
              "      \n",
              "  <style>\n",
              "    .colab-df-container {\n",
              "      display:flex;\n",
              "      flex-wrap:wrap;\n",
              "      gap: 12px;\n",
              "    }\n",
              "\n",
              "    .colab-df-convert {\n",
              "      background-color: #E8F0FE;\n",
              "      border: none;\n",
              "      border-radius: 50%;\n",
              "      cursor: pointer;\n",
              "      display: none;\n",
              "      fill: #1967D2;\n",
              "      height: 32px;\n",
              "      padding: 0 0 0 0;\n",
              "      width: 32px;\n",
              "    }\n",
              "\n",
              "    .colab-df-convert:hover {\n",
              "      background-color: #E2EBFA;\n",
              "      box-shadow: 0px 1px 2px rgba(60, 64, 67, 0.3), 0px 1px 3px 1px rgba(60, 64, 67, 0.15);\n",
              "      fill: #174EA6;\n",
              "    }\n",
              "\n",
              "    [theme=dark] .colab-df-convert {\n",
              "      background-color: #3B4455;\n",
              "      fill: #D2E3FC;\n",
              "    }\n",
              "\n",
              "    [theme=dark] .colab-df-convert:hover {\n",
              "      background-color: #434B5C;\n",
              "      box-shadow: 0px 1px 3px 1px rgba(0, 0, 0, 0.15);\n",
              "      filter: drop-shadow(0px 1px 2px rgba(0, 0, 0, 0.3));\n",
              "      fill: #FFFFFF;\n",
              "    }\n",
              "  </style>\n",
              "\n",
              "      <script>\n",
              "        const buttonEl =\n",
              "          document.querySelector('#df-616a799a-8c1b-45d5-a197-6738ea180ffb button.colab-df-convert');\n",
              "        buttonEl.style.display =\n",
              "          google.colab.kernel.accessAllowed ? 'block' : 'none';\n",
              "\n",
              "        async function convertToInteractive(key) {\n",
              "          const element = document.querySelector('#df-616a799a-8c1b-45d5-a197-6738ea180ffb');\n",
              "          const dataTable =\n",
              "            await google.colab.kernel.invokeFunction('convertToInteractive',\n",
              "                                                     [key], {});\n",
              "          if (!dataTable) return;\n",
              "\n",
              "          const docLinkHtml = 'Like what you see? Visit the ' +\n",
              "            '<a target=\"_blank\" href=https://colab.research.google.com/notebooks/data_table.ipynb>data table notebook</a>'\n",
              "            + ' to learn more about interactive tables.';\n",
              "          element.innerHTML = '';\n",
              "          dataTable['output_type'] = 'display_data';\n",
              "          await google.colab.output.renderOutput(dataTable, element);\n",
              "          const docLink = document.createElement('div');\n",
              "          docLink.innerHTML = docLinkHtml;\n",
              "          element.appendChild(docLink);\n",
              "        }\n",
              "      </script>\n",
              "    </div>\n",
              "  </div>\n",
              "  "
            ]
          },
          "metadata": {},
          "execution_count": 20
        }
      ]
    },
    {
      "cell_type": "markdown",
      "source": [
        "<p>6º) Baixamos o df como csv no drive do grupo para não executarmos essa função que demora muito toda vez que precisarmos desse df"
      ],
      "metadata": {
        "id": "E2cBsHogvwwu"
      }
    },
    {
      "cell_type": "code",
      "source": [
        "# Importamos a biblioteca drive do google.colab\n",
        "from google.colab import drive\n",
        "\n",
        "# Estabelecemos os caminhos para o download poder ser executado\n",
        "drive.mount(r'/content/drive')\n",
        "path = r'/content/drive/My Drive/Projeto_Banco_Pan_Grupo_1/df_filtro_clientes_engaj.csv'\n",
        "\n",
        "# Baixando nosso df no formato de csv em nosso drive\n",
        "with open(path, 'w', encoding = 'utf-8-sig') as f:\n",
        "  clientes_engajados_jornada.to_csv(f)"
      ],
      "metadata": {
        "colab": {
          "base_uri": "https://localhost:8080/",
          "height": 390
        },
        "id": "zdz7fyxVv__A",
        "outputId": "df513d50-e062-4459-b0c6-9e7ab30f81df"
      },
      "execution_count": null,
      "outputs": [
        {
          "output_type": "error",
          "ename": "KeyboardInterrupt",
          "evalue": "ignored",
          "traceback": [
            "\u001b[0;31m---------------------------------------------------------------------------\u001b[0m",
            "\u001b[0;31mKeyboardInterrupt\u001b[0m                         Traceback (most recent call last)",
            "\u001b[0;32m<ipython-input-21-436e11b49282>\u001b[0m in \u001b[0;36m<module>\u001b[0;34m\u001b[0m\n\u001b[1;32m      3\u001b[0m \u001b[0;34m\u001b[0m\u001b[0m\n\u001b[1;32m      4\u001b[0m \u001b[0;31m# Estabelecemos os caminhos para o download poder ser executado\u001b[0m\u001b[0;34m\u001b[0m\u001b[0;34m\u001b[0m\u001b[0;34m\u001b[0m\u001b[0m\n\u001b[0;32m----> 5\u001b[0;31m \u001b[0mdrive\u001b[0m\u001b[0;34m.\u001b[0m\u001b[0mmount\u001b[0m\u001b[0;34m(\u001b[0m\u001b[0;34mr'/content/drive'\u001b[0m\u001b[0;34m)\u001b[0m\u001b[0;34m\u001b[0m\u001b[0;34m\u001b[0m\u001b[0m\n\u001b[0m\u001b[1;32m      6\u001b[0m \u001b[0mpath\u001b[0m \u001b[0;34m=\u001b[0m \u001b[0;34mr'/content/drive/My Drive/Projeto_Banco_Pan_Grupo_1/df_filtro_clientes_engaj.csv'\u001b[0m\u001b[0;34m\u001b[0m\u001b[0;34m\u001b[0m\u001b[0m\n\u001b[1;32m      7\u001b[0m \u001b[0;34m\u001b[0m\u001b[0m\n",
            "\u001b[0;32m/usr/local/lib/python3.7/dist-packages/google/colab/drive.py\u001b[0m in \u001b[0;36mmount\u001b[0;34m(mountpoint, force_remount, timeout_ms)\u001b[0m\n\u001b[1;32m    103\u001b[0m       \u001b[0mforce_remount\u001b[0m\u001b[0;34m=\u001b[0m\u001b[0mforce_remount\u001b[0m\u001b[0;34m,\u001b[0m\u001b[0;34m\u001b[0m\u001b[0;34m\u001b[0m\u001b[0m\n\u001b[1;32m    104\u001b[0m       \u001b[0mtimeout_ms\u001b[0m\u001b[0;34m=\u001b[0m\u001b[0mtimeout_ms\u001b[0m\u001b[0;34m,\u001b[0m\u001b[0;34m\u001b[0m\u001b[0;34m\u001b[0m\u001b[0m\n\u001b[0;32m--> 105\u001b[0;31m       ephemeral=True)\n\u001b[0m\u001b[1;32m    106\u001b[0m \u001b[0;34m\u001b[0m\u001b[0m\n\u001b[1;32m    107\u001b[0m \u001b[0;34m\u001b[0m\u001b[0m\n",
            "\u001b[0;32m/usr/local/lib/python3.7/dist-packages/google/colab/drive.py\u001b[0m in \u001b[0;36m_mount\u001b[0;34m(mountpoint, force_remount, timeout_ms, ephemeral)\u001b[0m\n\u001b[1;32m    239\u001b[0m         \u001b[0mproblem_and_stopped\u001b[0m\u001b[0;34m,\u001b[0m\u001b[0;34m\u001b[0m\u001b[0;34m\u001b[0m\u001b[0m\n\u001b[1;32m    240\u001b[0m         \u001b[0mdrive_exited\u001b[0m\u001b[0;34m,\u001b[0m\u001b[0;34m\u001b[0m\u001b[0;34m\u001b[0m\u001b[0m\n\u001b[0;32m--> 241\u001b[0;31m         \u001b[0mdomain_disabled_drivefs\u001b[0m\u001b[0;34m,\u001b[0m\u001b[0;34m\u001b[0m\u001b[0;34m\u001b[0m\u001b[0m\n\u001b[0m\u001b[1;32m    242\u001b[0m     ])\n\u001b[1;32m    243\u001b[0m     \u001b[0;32mif\u001b[0m \u001b[0mcase\u001b[0m \u001b[0;34m==\u001b[0m \u001b[0;36m0\u001b[0m\u001b[0;34m:\u001b[0m\u001b[0;34m\u001b[0m\u001b[0;34m\u001b[0m\u001b[0m\n",
            "\u001b[0;32m/usr/local/lib/python3.7/dist-packages/pexpect/spawnbase.py\u001b[0m in \u001b[0;36mexpect\u001b[0;34m(self, pattern, timeout, searchwindowsize, async_, **kw)\u001b[0m\n\u001b[1;32m    342\u001b[0m         \u001b[0mcompiled_pattern_list\u001b[0m \u001b[0;34m=\u001b[0m \u001b[0mself\u001b[0m\u001b[0;34m.\u001b[0m\u001b[0mcompile_pattern_list\u001b[0m\u001b[0;34m(\u001b[0m\u001b[0mpattern\u001b[0m\u001b[0;34m)\u001b[0m\u001b[0;34m\u001b[0m\u001b[0;34m\u001b[0m\u001b[0m\n\u001b[1;32m    343\u001b[0m         return self.expect_list(compiled_pattern_list,\n\u001b[0;32m--> 344\u001b[0;31m                 timeout, searchwindowsize, async_)\n\u001b[0m\u001b[1;32m    345\u001b[0m \u001b[0;34m\u001b[0m\u001b[0m\n\u001b[1;32m    346\u001b[0m     def expect_list(self, pattern_list, timeout=-1, searchwindowsize=-1,\n",
            "\u001b[0;32m/usr/local/lib/python3.7/dist-packages/pexpect/spawnbase.py\u001b[0m in \u001b[0;36mexpect_list\u001b[0;34m(self, pattern_list, timeout, searchwindowsize, async_, **kw)\u001b[0m\n\u001b[1;32m    370\u001b[0m             \u001b[0;32mreturn\u001b[0m \u001b[0mexpect_async\u001b[0m\u001b[0;34m(\u001b[0m\u001b[0mexp\u001b[0m\u001b[0;34m,\u001b[0m \u001b[0mtimeout\u001b[0m\u001b[0;34m)\u001b[0m\u001b[0;34m\u001b[0m\u001b[0;34m\u001b[0m\u001b[0m\n\u001b[1;32m    371\u001b[0m         \u001b[0;32melse\u001b[0m\u001b[0;34m:\u001b[0m\u001b[0;34m\u001b[0m\u001b[0;34m\u001b[0m\u001b[0m\n\u001b[0;32m--> 372\u001b[0;31m             \u001b[0;32mreturn\u001b[0m \u001b[0mexp\u001b[0m\u001b[0;34m.\u001b[0m\u001b[0mexpect_loop\u001b[0m\u001b[0;34m(\u001b[0m\u001b[0mtimeout\u001b[0m\u001b[0;34m)\u001b[0m\u001b[0;34m\u001b[0m\u001b[0;34m\u001b[0m\u001b[0m\n\u001b[0m\u001b[1;32m    373\u001b[0m \u001b[0;34m\u001b[0m\u001b[0m\n\u001b[1;32m    374\u001b[0m     def expect_exact(self, pattern_list, timeout=-1, searchwindowsize=-1,\n",
            "\u001b[0;32m/usr/local/lib/python3.7/dist-packages/pexpect/expect.py\u001b[0m in \u001b[0;36mexpect_loop\u001b[0;34m(self, timeout)\u001b[0m\n\u001b[1;32m    169\u001b[0m                 \u001b[0mincoming\u001b[0m \u001b[0;34m=\u001b[0m \u001b[0mspawn\u001b[0m\u001b[0;34m.\u001b[0m\u001b[0mread_nonblocking\u001b[0m\u001b[0;34m(\u001b[0m\u001b[0mspawn\u001b[0m\u001b[0;34m.\u001b[0m\u001b[0mmaxread\u001b[0m\u001b[0;34m,\u001b[0m \u001b[0mtimeout\u001b[0m\u001b[0;34m)\u001b[0m\u001b[0;34m\u001b[0m\u001b[0;34m\u001b[0m\u001b[0m\n\u001b[1;32m    170\u001b[0m                 \u001b[0;32mif\u001b[0m \u001b[0mself\u001b[0m\u001b[0;34m.\u001b[0m\u001b[0mspawn\u001b[0m\u001b[0;34m.\u001b[0m\u001b[0mdelayafterread\u001b[0m \u001b[0;32mis\u001b[0m \u001b[0;32mnot\u001b[0m \u001b[0;32mNone\u001b[0m\u001b[0;34m:\u001b[0m\u001b[0;34m\u001b[0m\u001b[0;34m\u001b[0m\u001b[0m\n\u001b[0;32m--> 171\u001b[0;31m                     \u001b[0mtime\u001b[0m\u001b[0;34m.\u001b[0m\u001b[0msleep\u001b[0m\u001b[0;34m(\u001b[0m\u001b[0mself\u001b[0m\u001b[0;34m.\u001b[0m\u001b[0mspawn\u001b[0m\u001b[0;34m.\u001b[0m\u001b[0mdelayafterread\u001b[0m\u001b[0;34m)\u001b[0m\u001b[0;34m\u001b[0m\u001b[0;34m\u001b[0m\u001b[0m\n\u001b[0m\u001b[1;32m    172\u001b[0m                 \u001b[0midx\u001b[0m \u001b[0;34m=\u001b[0m \u001b[0mself\u001b[0m\u001b[0;34m.\u001b[0m\u001b[0mnew_data\u001b[0m\u001b[0;34m(\u001b[0m\u001b[0mincoming\u001b[0m\u001b[0;34m)\u001b[0m\u001b[0;34m\u001b[0m\u001b[0;34m\u001b[0m\u001b[0m\n\u001b[1;32m    173\u001b[0m                 \u001b[0;31m# Keep reading until exception or return.\u001b[0m\u001b[0;34m\u001b[0m\u001b[0;34m\u001b[0m\u001b[0;34m\u001b[0m\u001b[0m\n",
            "\u001b[0;31mKeyboardInterrupt\u001b[0m: "
          ]
        }
      ]
    },
    {
      "cell_type": "markdown",
      "source": [
        "<p>7º) Criando a matriz e correlação dos dados no dataframe (Feito por Ariel)"
      ],
      "metadata": {
        "id": "E5UFL3y-Lumz"
      }
    },
    {
      "cell_type": "code",
      "source": [
        "#Uma matriz de correlação é uma tabela que indica os coeficientes de conexão entre os fatores. \n",
        "#Cada célula da tabela mostra a conexão entre os dois fatores. \n",
        "#O método .corr() do pandas cria uma matriz de correlação entre todas as colunas do dataframe utilizado"
      ],
      "metadata": {
        "id": "-6byAU3NLZvK"
      },
      "execution_count": 2,
      "outputs": []
    },
    {
      "cell_type": "code",
      "source": [
        "#criando a matriz de correlação dos dados e limitando a relação para a coluna ind_engaj\n",
        "clientes_engajados_jornada.corr()['ind_engaj']"
      ],
      "metadata": {
        "id": "ztpg_tKwMIfq"
      },
      "execution_count": null,
      "outputs": []
    },
    {
      "cell_type": "code",
      "source": [
        "#Considerando qualquer valor acima de 0.05 um valor relevante de correlação, verifica-se que:\n",
        "#As colunas vlr_saldo, vlr_score, num_produtos e qtd_oper tem uma correlação diretamente proporcional com o ind_engaj\n",
        "#isto significa que quanto maior for o valor nessas colunas, o valor em ind_engaj tende a ser maior.\n",
        "#As colunas qtd_restr e cod_rating tem uma relação inversamente proporcional com o ind_engaj.\n",
        "#isto significa que quanto maior for o valor nessas colunas, o valor em ind_engaj tende a ser menor."
      ],
      "metadata": {
        "id": "6WZVdVMZGopK"
      },
      "execution_count": null,
      "outputs": []
    },
    {
      "cell_type": "code",
      "source": [
        "#criando a matriz de correlação dos dados e limitando a relação para a coluna ind_atrito\n",
        "clientes_engajados_jornada.corr()['ind_atrito']"
      ],
      "metadata": {
        "colab": {
          "base_uri": "https://localhost:8080/"
        },
        "id": "RaOnrf3YIphl",
        "outputId": "a2260fb2-abc0-4576-9d94-6a48776ff92b"
      },
      "execution_count": null,
      "outputs": [
        {
          "output_type": "execute_result",
          "data": {
            "text/plain": [
              "vlr_credito       0.023766\n",
              "vlr_saldo         0.030599\n",
              "num_atend_atrs    0.047761\n",
              "vlr_score         0.012758\n",
              "num_produtos     -0.001458\n",
              "num_atend         0.068733\n",
              "qtd_oper          0.007204\n",
              "qtd_reclm         0.526557\n",
              "qtd_restr         0.002942\n",
              "cod_rating       -0.005987\n",
              "ind_atrito        1.000000\n",
              "ind_engaj         0.002374\n",
              "Name: ind_atrito, dtype: float64"
            ]
          },
          "metadata": {},
          "execution_count": 33
        }
      ]
    },
    {
      "cell_type": "code",
      "source": [
        "#Considerando qualquer valor acima de 0.05 um valor relevante de correlação, verifica-se que:\n",
        "#As colunas qtd_reclm e num_atend tem uma relação diretamente proporcional com o ind_atrito.\n",
        "#isto significa que quanto maior for o valor nessas colunas, o valor em ind_atrito tende a ser maior."
      ],
      "metadata": {
        "id": "w7k5VC8nJJgc"
      },
      "execution_count": null,
      "outputs": []
    }
  ]
}